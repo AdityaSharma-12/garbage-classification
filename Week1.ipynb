{
 "cells": [
  {
   "cell_type": "code",
   "execution_count": 6,
   "id": "5e5fc7c0-0372-44f0-9b88-c55738b0e41b",
   "metadata": {},
   "outputs": [],
   "source": [
    "import numpy as np  # Importing NumPy for numerical operations and array manipulations\n",
    "import matplotlib.pyplot as plt  # Importing Matplotlib for plotting graphs and visualizations\n",
    "import seaborn as sns  # Importing Seaborn for statistical data visualization, built on top of Matplotlib\n",
    "import tensorflow as tf  # Importing TensorFlow for building and training machine learning models\n",
    "from tensorflow import keras  # Importing Keras, a high-level API for TensorFlow, to simplify model building\n",
    "from tensorflow.keras import Layer  # Importing Layer class for creating custom layers in Keras\n",
    "from tensorflow.keras.models import Sequential  # Importing Sequential model for building neural networks layer-by-layer\n",
    "from tensorflow.keras.layers import Rescaling , GlobalAveragePooling2D\n",
    "from tensorflow.keras import layers, optimizers, callbacks  # Importing various modules for layers, optimizers, and callbacks in Keras\n",
    "from sklearn.utils.class_weight import compute_class_weight  # Importing function to compute class weights for imbalanced datasets\n",
    "from tensorflow.keras.applications import EfficientNetV2B2  # Importing EfficientNetV2S model for transfer learning\n",
    "from sklearn.metrics import confusion_matrix, classification_report  # Importing functions to evaluate model performance\n",
    "import gradio as gr  # Importing Gradio for creating interactive web interfaces for machine learning models"
   ]
  },
  {
   "cell_type": "code",
   "execution_count": 7,
   "id": "add51b96-669e-41ff-ae12-2b8ab06a882a",
   "metadata": {},
   "outputs": [],
   "source": [
    "dataset_dir= r\"C:\\Users\\adity\\Downloads\\TrashType_Image_Dataset\"\n",
    "image_size = (124, 124)\n",
    "batch_size = 32\n",
    "seed = 42"
   ]
  },
  {
   "cell_type": "code",
   "execution_count": 9,
   "id": "83ca210e-a66f-4623-b669-2845440dfbdf",
   "metadata": {},
   "outputs": [
    {
     "name": "stdout",
     "output_type": "stream",
     "text": [
      "Found 2527 files belonging to 6 classes.\n",
      "Using 2022 files for training.\n"
     ]
    }
   ],
   "source": [
    "train_ds = tf.keras.utils.image_dataset_from_directory(\n",
    "    dataset_dir,\n",
    "    validation_split=0.2,\n",
    "    subset=\"training\",\n",
    "    seed=seed,\n",
    "    shuffle = True,\n",
    "    image_size=image_size,\n",
    "    batch_size=batch_size\n",
    ")"
   ]
  },
  {
   "cell_type": "code",
   "execution_count": 10,
   "id": "e4486a0f-da6d-4dbd-8e1a-f57401b92914",
   "metadata": {},
   "outputs": [
    {
     "name": "stdout",
     "output_type": "stream",
     "text": [
      "Found 2527 files belonging to 6 classes.\n",
      "Using 505 files for validation.\n"
     ]
    }
   ],
   "source": [
    "val_ds = tf.keras.utils.image_dataset_from_directory(\n",
    "    dataset_dir,\n",
    "    validation_split=0.2,\n",
    "    subset=\"validation\",\n",
    "    seed=seed,\n",
    "    shuffle = True,\n",
    "    image_size=image_size,\n",
    "    batch_size=batch_size\n",
    ")\n",
    "val_class= val_ds.class_names"
   ]
  },
  {
   "cell_type": "code",
   "execution_count": null,
   "id": "5fcbcde3-fc8f-4937-8408-9e98193ce7b8",
   "metadata": {},
   "outputs": [],
   "source": []
  }
 ],
 "metadata": {
  "kernelspec": {
   "display_name": "Python 3 (ipykernel)",
   "language": "python",
   "name": "python3"
  },
  "language_info": {
   "codemirror_mode": {
    "name": "ipython",
    "version": 3
   },
   "file_extension": ".py",
   "mimetype": "text/x-python",
   "name": "python",
   "nbconvert_exporter": "python",
   "pygments_lexer": "ipython3",
   "version": "3.12.7"
  }
 },
 "nbformat": 4,
 "nbformat_minor": 5
}
